{
  "nbformat": 4,
  "nbformat_minor": 0,
  "metadata": {
    "colab": {
      "provenance": [],
      "include_colab_link": true
    },
    "kernelspec": {
      "name": "python3",
      "display_name": "Python 3"
    },
    "language_info": {
      "name": "python"
    }
  },
  "cells": [
    {
      "cell_type": "markdown",
      "metadata": {
        "id": "view-in-github",
        "colab_type": "text"
      },
      "source": [
        "<a href=\"https://colab.research.google.com/github/Ricardo711/Python/blob/main/black_sholes_example.ipynb\" target=\"_parent\"><img src=\"https://colab.research.google.com/assets/colab-badge.svg\" alt=\"Open In Colab\"/></a>"
      ]
    },
    {
      "cell_type": "code",
      "execution_count": null,
      "metadata": {
        "id": "ApFEuTdvnvoS",
        "colab": {
          "base_uri": "https://localhost:8080/"
        },
        "outputId": "8ad18523-6ed3-4f13-b471-03db99a64fcb"
      },
      "outputs": [
        {
          "output_type": "stream",
          "name": "stdout",
          "text": [
            "Looking in indexes: https://pypi.org/simple, https://us-python.pkg.dev/colab-wheels/public/simple/\n",
            "Collecting requests-cache\n",
            "  Downloading requests_cache-1.0.1-py3-none-any.whl (58 kB)\n",
            "\u001b[2K     \u001b[90m━━━━━━━━━━━━━━━━━━━━━━━━━━━━━━━━━━━━━━━━\u001b[0m \u001b[32m58.7/58.7 kB\u001b[0m \u001b[31m1.2 MB/s\u001b[0m eta \u001b[36m0:00:00\u001b[0m\n",
            "\u001b[?25hCollecting url-normalize>=1.4\n",
            "  Downloading url_normalize-1.4.3-py2.py3-none-any.whl (6.8 kB)\n",
            "Requirement already satisfied: urllib3>=1.25.5 in /usr/local/lib/python3.9/dist-packages (from requests-cache) (1.26.15)\n",
            "Requirement already satisfied: platformdirs>=2.5 in /usr/local/lib/python3.9/dist-packages (from requests-cache) (3.2.0)\n",
            "Requirement already satisfied: attrs>=21.2 in /usr/local/lib/python3.9/dist-packages (from requests-cache) (23.1.0)\n",
            "Collecting cattrs>=22.2\n",
            "  Downloading cattrs-22.2.0-py3-none-any.whl (35 kB)\n",
            "Requirement already satisfied: requests>=2.22 in /usr/local/lib/python3.9/dist-packages (from requests-cache) (2.27.1)\n",
            "Requirement already satisfied: exceptiongroup in /usr/local/lib/python3.9/dist-packages (from cattrs>=22.2->requests-cache) (1.1.1)\n",
            "Requirement already satisfied: certifi>=2017.4.17 in /usr/local/lib/python3.9/dist-packages (from requests>=2.22->requests-cache) (2022.12.7)\n",
            "Requirement already satisfied: charset-normalizer~=2.0.0 in /usr/local/lib/python3.9/dist-packages (from requests>=2.22->requests-cache) (2.0.12)\n",
            "Requirement already satisfied: idna<4,>=2.5 in /usr/local/lib/python3.9/dist-packages (from requests>=2.22->requests-cache) (3.4)\n",
            "Requirement already satisfied: six in /usr/local/lib/python3.9/dist-packages (from url-normalize>=1.4->requests-cache) (1.16.0)\n",
            "Installing collected packages: url-normalize, cattrs, requests-cache\n",
            "Successfully installed cattrs-22.2.0 requests-cache-1.0.1 url-normalize-1.4.3\n"
          ]
        }
      ],
      "source": [
        "import numpy as np\n",
        "from scipy.stats import norm\n",
        "import matplotlib.pyplot as plt\n",
        "!pip install requests-cache"
      ]
    },
    {
      "cell_type": "code",
      "source": [
        "#Black Sholes fair price for a call option\n",
        "class BS():\n",
        "    def __init__(self, S, K, T, r, sigma):\n",
        "        self.price  = S\n",
        "        self.strk_price = K\n",
        "        self.strk_time = T/365\n",
        "        self.interest = r\n",
        "        self.volat = sigma\n",
        "\n",
        "    def d1(self):\n",
        "      return (np.log(self.price/self.strk_price)+(self.interest+0.5*self.volat **2)*self.strk_time)/(self.volat*np.sqrt(self.strk_time))\n",
        "\n",
        "    def d2(self):\n",
        "      return self.d1() - self.volat * np.sqrt(self.strk_time)\n",
        "\n",
        "    def bs_call(self):\n",
        "        d1 = self.d1()\n",
        "        d2 = self.d2()\n",
        "        return self.price*norm.cdf(d1) - self.strk_price*np.exp(-self.interest*self.strk_time)*norm.cdf(d2)\n"
      ],
      "metadata": {
        "id": "80dZgqWcrWL2"
      },
      "execution_count": null,
      "outputs": []
    },
    {
      "cell_type": "code",
      "source": [
        "import requests_cache\n",
        "import matplotlib.pyplot as plt\n",
        "from datetime import datetime, date, timedelta\n",
        "import numpy as np\n",
        "import pandas as pd\n",
        "import pandas_datareader.data as wb\n",
        "\n",
        "class Ticker: #Taken from https://github.com/krivi95/option-pricing-models/blob/master/option_pricing/ticker.py\n",
        "    @staticmethod\n",
        "    def get_historical_data(ticker, start_date=None, end_date=None, cache_data=True, cache_days=1):\n",
        "        \"\"\"\n",
        "        Fetches stock data from yahoo finance. Request is by default cashed in sqlite db for 1 day.\n",
        "        Params:\n",
        "        ticker: ticker symbol\n",
        "        start_date: start date for getting historical data\n",
        "        end_date: end date for getting historical data\n",
        "        cache_date: flag for caching fetched data into slqite db\n",
        "        cache_days: number of days data will stay in cache\n",
        "        \"\"\"\n",
        "        try:\n",
        "            # initializing sqlite for caching yahoo finance requests\n",
        "            expire_after = timedelta(days=1)\n",
        "            session = requests_cache.CachedSession(cache_name='cache', backend='sqlite', expire_after=expire_after)\n",
        "\n",
        "            # Adding headers to session\n",
        "            session.headers = {'User-Agent': 'Mozilla/5.0 (X11; Ubuntu; Linux x86_64; rv:89.0) Gecko/20100101 Firefox/89.0', 'Accept': 'application/json;charset=utf-8'}  # noqa\n",
        "\n",
        "            if start_date is not None and end_date is not None:\n",
        "                data = wb.DataReader(ticker, data_source='yahoo', start=start_date, end=end_date, session=session)\n",
        "            else:\n",
        "                data = wb.DataReader(ticker, data_source='yahoo', session=session)   #['Adj Close']\n",
        "            if data is None:\n",
        "                return None\n",
        "            return data\n",
        "        except Exception as e:\n",
        "            print(e)\n",
        "            return None\n",
        "\n",
        "    @staticmethod\n",
        "    def get_columns(data):\n",
        "        if data is None:\n",
        "            return None\n",
        "        return [column for column in data.columns]\n",
        "\n",
        "    @staticmethod\n",
        "    def get_last_price(data, column_name):\n",
        "        if data is None or column_name is None:\n",
        "            return None\n",
        "        if column_name not in Ticker.get_columns(data):\n",
        "            return None\n",
        "        return data[column_name].iloc[len(data) - 1]\n",
        "\n",
        "\n",
        "    @staticmethod\n",
        "    def plot_data(data, ticker, column_name):\n",
        "        try:\n",
        "            if data is None:\n",
        "                return\n",
        "            data[column_name].plot()\n",
        "            plt.ylabel('{}'.format(column_name))\n",
        "            plt.xlabel('Date')\n",
        "            plt.title('Historical data for {} - {}'.format(ticker, column_name))\n",
        "            plt.legend(loc='best')\n",
        "            plt.show()\n",
        "        except Exception as e:\n",
        "            print(e)\n",
        "            return"
      ],
      "metadata": {
        "id": "mF3EwDPDEpU6"
      },
      "execution_count": null,
      "outputs": []
    },
    {
      "cell_type": "code",
      "source": [
        "# Fetching the prices from yahoo finance\n",
        "tickers = ['TSLA', 'AAPL', 'MSFT', 'GOOGL']\n",
        "for tk in tickers:\n",
        "    data = Ticker.get_historical_data(tk)\n",
        "    print(Ticker.get_columns(data))\n",
        "    print(Ticker.get_last_price(data, 'Adj Close'))\n",
        "    Ticker.plot_data(data, tk, 'Adj Close')"
      ],
      "metadata": {
        "colab": {
          "base_uri": "https://localhost:8080/"
        },
        "id": "yYxztKA-KqtT",
        "outputId": "abd475fb-7353-4df9-91be-f231a46eeace"
      },
      "execution_count": null,
      "outputs": [
        {
          "output_type": "stream",
          "name": "stdout",
          "text": [
            "string indices must be integers\n",
            "None\n",
            "None\n",
            "string indices must be integers\n",
            "None\n",
            "None\n",
            "string indices must be integers\n",
            "None\n",
            "None\n",
            "string indices must be integers\n",
            "None\n",
            "None\n"
          ]
        }
      ]
    },
    {
      "cell_type": "code",
      "source": [
        "!pip install yfinance"
      ],
      "metadata": {
        "colab": {
          "base_uri": "https://localhost:8080/"
        },
        "id": "hcJTfbZ3wQKk",
        "outputId": "0784ac0f-3860-4976-e817-6dd7963137b3"
      },
      "execution_count": null,
      "outputs": [
        {
          "output_type": "stream",
          "name": "stdout",
          "text": [
            "Looking in indexes: https://pypi.org/simple, https://us-python.pkg.dev/colab-wheels/public/simple/\n",
            "Requirement already satisfied: yfinance in /usr/local/lib/python3.7/dist-packages (0.1.75)\n",
            "Requirement already satisfied: pandas>=0.24.0 in /usr/local/lib/python3.7/dist-packages (from yfinance) (1.3.5)\n",
            "Requirement already satisfied: appdirs>=1.4.4 in /usr/local/lib/python3.7/dist-packages (from yfinance) (1.4.4)\n",
            "Requirement already satisfied: requests>=2.26 in /usr/local/lib/python3.7/dist-packages (from yfinance) (2.28.1)\n",
            "Requirement already satisfied: numpy>=1.15 in /usr/local/lib/python3.7/dist-packages (from yfinance) (1.21.6)\n",
            "Requirement already satisfied: multitasking>=0.0.7 in /usr/local/lib/python3.7/dist-packages (from yfinance) (0.0.11)\n",
            "Requirement already satisfied: lxml>=4.5.1 in /usr/local/lib/python3.7/dist-packages (from yfinance) (4.9.1)\n",
            "Requirement already satisfied: python-dateutil>=2.7.3 in /usr/local/lib/python3.7/dist-packages (from pandas>=0.24.0->yfinance) (2.8.2)\n",
            "Requirement already satisfied: pytz>=2017.3 in /usr/local/lib/python3.7/dist-packages (from pandas>=0.24.0->yfinance) (2022.4)\n",
            "Requirement already satisfied: six>=1.5 in /usr/local/lib/python3.7/dist-packages (from python-dateutil>=2.7.3->pandas>=0.24.0->yfinance) (1.15.0)\n",
            "Requirement already satisfied: urllib3<1.27,>=1.21.1 in /usr/local/lib/python3.7/dist-packages (from requests>=2.26->yfinance) (1.25.11)\n",
            "Requirement already satisfied: certifi>=2017.4.17 in /usr/local/lib/python3.7/dist-packages (from requests>=2.26->yfinance) (2022.9.24)\n",
            "Requirement already satisfied: charset-normalizer<3,>=2 in /usr/local/lib/python3.7/dist-packages (from requests>=2.26->yfinance) (2.1.1)\n",
            "Requirement already satisfied: idna<4,>=2.5 in /usr/local/lib/python3.7/dist-packages (from requests>=2.26->yfinance) (2.10)\n"
          ]
        }
      ]
    },
    {
      "cell_type": "code",
      "source": [
        "import pandas as pd\n",
        "import numpy as np\n",
        "import yfinance as yf\n",
        "\n",
        "def options_chain(symbol):\n",
        "    tk = yf.Ticker(symbol)\n",
        "    exps = tk.options # Expiration dates\n",
        "\n",
        "    # Get options for each expiration\n",
        "    options = pd.DataFrame()\n",
        "    for e in exps:\n",
        "        opt = tk.option_chain(e)\n",
        "        opt = pd.DataFrame().append(opt.calls)\n",
        "        opt['expirationDate'] = e\n",
        "        options = options.append(opt, ignore_index=True)\n",
        "\n",
        "    # Bizarre error in yfinance that gives the wrong expiration date. Add 1 day to get the correct expiration date\n",
        "    options['expirationDate'] = pd.to_datetime(options['expirationDate']) + timedelta(days = 1)\n",
        "    options['days2exp'] = (options['expirationDate'] - datetime.today()).dt.days\n",
        "\n",
        "    options[['bid', 'ask', 'strike']] = options[['bid', 'ask', 'strike']].apply(pd.to_numeric)\n",
        "    options['mark'] = (options['bid'] + options['ask']) / 2 # Calculate the midpoint of the bid-ask\n",
        "\n",
        "    # Drop unnecessary and meaningless columns\n",
        "    options = options.drop(columns = ['contractSize', 'currency', 'change', 'percentChange', 'lastTradeDate', 'lastPrice'])\n",
        "\n",
        "    return options\n",
        "\n",
        "option_list = {}\n",
        "list_companies =  ['TSLA', 'AAPL', 'MSFT', 'GOOGL']\n",
        "for cpny in list_companies:\n",
        "    option = options_chain(cpny)\n",
        "    option_list[cpny] = option\n"
      ],
      "metadata": {
        "id": "yiO3CSO0lUQc"
      },
      "execution_count": null,
      "outputs": []
    },
    {
      "cell_type": "markdown",
      "source": [
        "Datos filtrados por fecha"
      ],
      "metadata": {
        "id": "E5A7t1k3mvz2"
      }
    },
    {
      "cell_type": "code",
      "source": [
        "list_companies =  ['TSLA', 'AAPL', 'MSFT', 'GOOGL']\n",
        "dt = datetime(2022, 11, 30)\n",
        "option_filtered = {}\n",
        "for cpny in list_companies:\n",
        "    print(cpny)\n",
        "    option_filtered[cpny] = option_list[cpny][option_list[cpny].expirationDate < dt]\n",
        "    display(option_filtered[cpny].expirationDate)\n",
        "\n",
        "option_filtered = option_filtered"
      ],
      "metadata": {
        "id": "KLihS3t1Rs5f"
      },
      "execution_count": null,
      "outputs": []
    },
    {
      "cell_type": "markdown",
      "source": [
        "Ploteo de Datos"
      ],
      "metadata": {
        "id": "AP-ztFrqm16m"
      }
    },
    {
      "cell_type": "code",
      "source": [
        "def plot_data(data, ticker, column_name):\n",
        "    data[column_name].plot()\n",
        "    plt.ylabel('{}'.format(column_name))\n",
        "    plt.xlabel('Date')\n",
        "    plt.title('Options data for {} - {}'.format(ticker, column_name))\n",
        "    plt.legend(loc='best')\n",
        "    plt.show()\n",
        "\n",
        "def plot_data_dif(data, col1, col2):\n",
        "    (data[col1] - data[col2]).plot()\n",
        "    plt.ylabel('dif {} - {}'.format(col1, col2))\n",
        "    plt.xlabel('Date')\n",
        "    plt.legend(loc='best')\n",
        "    plt.show()\n",
        "\n",
        "list_companies =  ['TSLA', 'AAPL', 'MSFT', 'GOOGL']\n",
        "#for  cnp in list_companies:\n",
        "#     plot_data(option_list[cnp], cnp, 'ask')\n",
        "#     plot_data(option_list[cnp], cnp, 'strike')\n",
        "\n",
        "#for  cnp in list_companies:\n",
        "#     plot_data_dif(option_list[cnp], 'ask', 'strike')"
      ],
      "metadata": {
        "id": "shdTzSc7SAva"
      },
      "execution_count": null,
      "outputs": []
    },
    {
      "cell_type": "markdown",
      "source": [
        "Para cada compañia ['TSLA', 'AAPL', 'MSFT', 'GOOGL'] se predicen los precios de las opciones para cada tiempo de expiracion y se comparan contro los valores del ask para ver cuanto se acercan uno al otro debe y ver cuan buena es la prediccion de BS"
      ],
      "metadata": {
        "id": "uQkoQ1fOISb-"
      }
    },
    {
      "cell_type": "code",
      "source": [
        "def compute_volatility(df):\n",
        "    df = df.assign(close_day_before = df.Close.shift(1))\n",
        "    df['returns'] = (df.Close - df.close_day_before)/df.close_day_before\n",
        "    sigma = np.sqrt(252) * df['returns'].std()\n",
        "    return sigma, df\n",
        "\n",
        "#calculo de la volatilidad\n",
        "today = datetime.now()\n",
        "one_year_ago = today.replace(year=today.year-1)\n",
        "interest = Ticker.get_historical_data(\"^TNX\",start_date=today.replace(day=today.day-1), end_date=today)\n",
        "interest = interest['Close'].iloc[-1]/100\n",
        "errors = {}\n",
        "bs = {}\n",
        "mse = {}\n",
        "\n",
        "for stock in list_companies:\n",
        "    df_stock = Ticker.get_historical_data(stock)\n",
        "    df_stock = df_stock.sort_values(by=\"Date\")\n",
        "    df_stock = df_stock.dropna()\n",
        "    sigma, df_stock = compute_volatility(df_stock)\n",
        "    stock_price = df_stock['Close'].iloc[-1]\n",
        "    days2exp = option_list[stock].days2exp\n",
        "    strike_price = option_list[stock].strike\n",
        "    bs_obj = BS(stock_price, strike_price, days2exp, interest, sigma)\n",
        "    call_price = bs_obj.bs_call()\n",
        "    bs[stock] = call_price\n",
        "    errors[stock] = np.abs(np.array(option_list[stock]['ask']) - bs[stock])\n",
        "    mse[stock] = np.sqrt(np.mean(errors[stock]**2) / bs[stock].shape[0])\n",
        "    print('The Option Price of option {} is {} '.format(stock, mse[stock]))"
      ],
      "metadata": {
        "colab": {
          "base_uri": "https://localhost:8080/"
        },
        "id": "NDon5gsF_F1H",
        "outputId": "94e5159b-2c2c-4894-f875-301cb8d7e7a7"
      },
      "execution_count": null,
      "outputs": [
        {
          "output_type": "stream",
          "name": "stdout",
          "text": [
            "The Option Price of option TSLA is 0.9783138143039061 \n",
            "The Option Price of option AAPL is 0.05625324919899012 \n",
            "The Option Price of option MSFT is 0.14705949350024466 \n",
            "The Option Price of option GOOGL is 6.061570450757901 \n"
          ]
        }
      ]
    },
    {
      "cell_type": "markdown",
      "source": [
        "Some *statistics*, también se eliminan los outliers"
      ],
      "metadata": {
        "id": "FKzGKVdlLHun"
      }
    },
    {
      "cell_type": "code",
      "source": [
        "import seaborn as sns\n",
        "\n",
        "wout_outliers = {}\n",
        "for stock in list_companies:\n",
        "    a = np.array(errors[stock])\n",
        "    b = a[~np.isnan(a)]\n",
        "    Q1 = np.percentile(b , 25)\n",
        "    Q3 = np.percentile(b , 75)\n",
        "    IQR = Q3 - Q1\n",
        "    ul = Q3+1.5*IQR\n",
        "    ll = Q1-1.5*IQR\n",
        "    wout_outliers[stock] = b[(b < ul) & (b > ll)]\n",
        "    print('max y min', ul, ll)\n",
        "\n",
        "statistics = {}\n",
        "for stock in list_companies:\n",
        "    statistics[stock] = [np.min(wout_outliers[stock]), np.max(wout_outliers[stock]),\n",
        "                         np.mean(wout_outliers[stock]), np.median(wout_outliers[stock])]\n",
        "    sns.histplot(data=wout_outliers[stock], color = 'navy')\n",
        "    plt.xlabel('errors')\n",
        "    plt.title('Histograma de errores de {}'.format(stock))\n",
        "    plt.show()\n",
        "    plt.boxplot(wout_outliers[stock])\n",
        "    plt.title('Boxplot de errores de {}'.format(stock))\n",
        "    plt.show()\n",
        "\n",
        "lis_name = ['min', 'max', 'mean', 'median']\n",
        "stat = pd.DataFrame()\n",
        "stat['stock']=['TSLA', 'AAPL', 'MSFT', 'GOOGL']\n",
        "for j, n in enumerate(lis_name):\n",
        "    lista = []\n",
        "    for stock in list_companies:\n",
        "        lista.append(statistics[stock][j])\n",
        "    stat[n] = lista\n",
        "display(stat)"
      ],
      "metadata": {
        "colab": {
          "base_uri": "https://localhost:8080/",
          "height": 1000
        },
        "id": "Tidf8tleFGQI",
        "outputId": "c6a71b80-32c5-4474-a434-dd6f80f9820f"
      },
      "execution_count": null,
      "outputs": [
        {
          "output_type": "stream",
          "name": "stdout",
          "text": [
            "max y min 9.34070818784389 -5.536317247603193\n",
            "max y min 3.037558097966205 -1.7315561288402803\n",
            "max y min 4.881013143429926 -2.7668005204982853\n",
            "max y min 5.561215255521353 -3.3367291533128105\n"
          ]
        },
        {
          "output_type": "display_data",
          "data": {
            "text/plain": [
              "<Figure size 432x288 with 1 Axes>"
            ],
            "image/png": "[encoded data removed]"
          },
          "metadata": {
            "needs_background": "light"
          }
        },
        {
          "output_type": "display_data",
          "data": {
            "text/plain": [
              "<Figure size 432x288 with 1 Axes>"
            ],
            "image/png": "[encoded data removed]"
          },
          "metadata": {
            "needs_background": "light"
          }
        },
        {
          "output_type": "display_data",
          "data": {
            "text/plain": [
              "<Figure size 432x288 with 1 Axes>"
            ],
            "image/png": "[encoded data removed]"
          },
          "metadata": {
            "needs_background": "light"
          }
        },
        {
          "output_type": "display_data",
          "data": {
            "text/plain": [
              "<Figure size 432x288 with 1 Axes>"
            ],
            "image/png": "[encoded data removed]"
          },
          "metadata": {
            "needs_background": "light"
          }
        },
        {
          "output_type": "display_data",
          "data": {
            "text/plain": [
              "<Figure size 432x288 with 1 Axes>"
            ],
            "image/png": "[encoded data removed]"
          },
          "metadata": {
            "needs_background": "light"
          }
        },
        {
          "output_type": "display_data",
          "data": {
            "text/plain": [
              "<Figure size 432x288 with 1 Axes>"
            ],
            "image/png": "[encoded data removed]"
          },
          "metadata": {
            "needs_background": "light"
          }
        },
        {
          "output_type": "display_data",
          "data": {
            "text/plain": [
              "<Figure size 432x288 with 1 Axes>"
            ],
            "image/png": "[encoded data removed]"
          },
          "metadata": {
            "needs_background": "light"
          }
        },
        {
          "output_type": "display_data",
          "data": {
            "text/plain": [
              "<Figure size 432x288 with 1 Axes>"
            ],
            "image/png": "[encoded data removed]"
          },
          "metadata": {
            "needs_background": "light"
          }
        },
        {
          "output_type": "display_data",
          "data": {
            "text/plain": [
              "   stock  min       max      mean    median\n",
              "0   TSLA  0.0  9.329729  1.841153  0.840072\n",
              "1   AAPL  0.0  2.969409  0.698241  0.336864\n",
              "2   MSFT  0.0  4.876382  1.095471  0.539748\n",
              "3  GOOGL  0.0  5.523478  0.859074  0.231000"
            ],
            "text/html": [
              "\n",
              "  <div id=\"df-9c031fb3-7e7d-4fb1-b345-26c1b1e50649\">\n",
              "    <div class=\"colab-df-container\">\n",
              "      <div>\n",
              "<style scoped>\n",
              "    .dataframe tbody tr th:only-of-type {\n",
              "        vertical-align: middle;\n",
              "    }\n",
              "\n",
              "    .dataframe tbody tr th {\n",
              "        vertical-align: top;\n",
              "    }\n",
              "\n",
              "    .dataframe thead th {\n",
              "        text-align: right;\n",
              "    }\n",
              "</style>\n",
              "<table border=\"1\" class=\"dataframe\">\n",
              "  <thead>\n",
              "    <tr style=\"text-align: right;\">\n",
              "      <th></th>\n",
              "      <th>stock</th>\n",
              "      <th>min</th>\n",
              "      <th>max</th>\n",
              "      <th>mean</th>\n",
              "      <th>median</th>\n",
              "    </tr>\n",
              "  </thead>\n",
              "  <tbody>\n",
              "    <tr>\n",
              "      <th>0</th>\n",
              "      <td>TSLA</td>\n",
              "      <td>0.0</td>\n",
              "      <td>9.329729</td>\n",
              "      <td>1.841153</td>\n",
              "      <td>0.840072</td>\n",
              "    </tr>\n",
              "    <tr>\n",
              "      <th>1</th>\n",
              "      <td>AAPL</td>\n",
              "      <td>0.0</td>\n",
              "      <td>2.969409</td>\n",
              "      <td>0.698241</td>\n",
              "      <td>0.336864</td>\n",
              "    </tr>\n",
              "    <tr>\n",
              "      <th>2</th>\n",
              "      <td>MSFT</td>\n",
              "      <td>0.0</td>\n",
              "      <td>4.876382</td>\n",
              "      <td>1.095471</td>\n",
              "      <td>0.539748</td>\n",
              "    </tr>\n",
              "    <tr>\n",
              "      <th>3</th>\n",
              "      <td>GOOGL</td>\n",
              "      <td>0.0</td>\n",
              "      <td>5.523478</td>\n",
              "      <td>0.859074</td>\n",
              "      <td>0.231000</td>\n",
              "    </tr>\n",
              "  </tbody>\n",
              "</table>\n",
              "</div>\n",
              "      <button class=\"colab-df-convert\" onclick=\"convertToInteractive('df-9c031fb3-7e7d-4fb1-b345-26c1b1e50649')\"\n",
              "              title=\"Convert this dataframe to an interactive table.\"\n",
              "              style=\"display:none;\">\n",
              "        \n",
              "  <svg xmlns=\"http://www.w3.org/2000/svg\" height=\"24px\"viewBox=\"0 0 24 24\"\n",
              "       width=\"24px\">\n",
              "    <path d=\"M0 0h24v24H0V0z\" fill=\"none\"/>\n",
              "    <path d=\"M18.56 5.44l.94 2.06.94-2.06 2.06-.94-2.06-.94-.94-2.06-.94 2.06-2.06.94zm-11 1L8.5 8.5l.94-2.06 2.06-.94-2.06-.94L8.5 2.5l-.94 2.06-2.06.94zm10 10l.94 2.06.94-2.06 2.06-.94-2.06-.94-.94-2.06-.94 2.06-2.06.94z\"/><path d=\"M17.41 7.96l-1.37-1.37c-.4-.4-.92-.59-1.43-.59-.52 0-1.04.2-1.43.59L10.3 9.45l-7.72 7.72c-.78.78-.78 2.05 0 2.83L4 21.41c.39.39.9.59 1.41.59.51 0 1.02-.2 1.41-.59l7.78-7.78 2.81-2.81c.8-.78.8-2.07 0-2.86zM5.41 20L4 18.59l7.72-7.72 1.47 1.35L5.41 20z\"/>\n",
              "  </svg>\n",
              "      </button>\n",
              "      \n",
              "  <style>\n",
              "    .colab-df-container {\n",
              "      display:flex;\n",
              "      flex-wrap:wrap;\n",
              "      gap: 12px;\n",
              "    }\n",
              "\n",
              "    .colab-df-convert {\n",
              "      background-color: #E8F0FE;\n",
              "      border: none;\n",
              "      border-radius: 50%;\n",
              "      cursor: pointer;\n",
              "      display: none;\n",
              "      fill: #1967D2;\n",
              "      height: 32px;\n",
              "      padding: 0 0 0 0;\n",
              "      width: 32px;\n",
              "    }\n",
              "\n",
              "    .colab-df-convert:hover {\n",
              "      background-color: #E2EBFA;\n",
              "      box-shadow: 0px 1px 2px rgba(60, 64, 67, 0.3), 0px 1px 3px 1px rgba(60, 64, 67, 0.15);\n",
              "      fill: #174EA6;\n",
              "    }\n",
              "\n",
              "    [theme=dark] .colab-df-convert {\n",
              "      background-color: #3B4455;\n",
              "      fill: #D2E3FC;\n",
              "    }\n",
              "\n",
              "    [theme=dark] .colab-df-convert:hover {\n",
              "      background-color: #434B5C;\n",
              "      box-shadow: 0px 1px 3px 1px rgba(0, 0, 0, 0.15);\n",
              "      filter: drop-shadow(0px 1px 2px rgba(0, 0, 0, 0.3));\n",
              "      fill: #FFFFFF;\n",
              "    }\n",
              "  </style>\n",
              "\n",
              "      <script>\n",
              "        const buttonEl =\n",
              "          document.querySelector('#df-9c031fb3-7e7d-4fb1-b345-26c1b1e50649 button.colab-df-convert');\n",
              "        buttonEl.style.display =\n",
              "          google.colab.kernel.accessAllowed ? 'block' : 'none';\n",
              "\n",
              "        async function convertToInteractive(key) {\n",
              "          const element = document.querySelector('#df-9c031fb3-7e7d-4fb1-b345-26c1b1e50649');\n",
              "          const dataTable =\n",
              "            await google.colab.kernel.invokeFunction('convertToInteractive',\n",
              "                                                     [key], {});\n",
              "          if (!dataTable) return;\n",
              "\n",
              "          const docLinkHtml = 'Like what you see? Visit the ' +\n",
              "            '<a target=\"_blank\" href=https://colab.research.google.com/notebooks/data_table.ipynb>data table notebook</a>'\n",
              "            + ' to learn more about interactive tables.';\n",
              "          element.innerHTML = '';\n",
              "          dataTable['output_type'] = 'display_data';\n",
              "          await google.colab.output.renderOutput(dataTable, element);\n",
              "          const docLink = document.createElement('div');\n",
              "          docLink.innerHTML = docLinkHtml;\n",
              "          element.appendChild(docLink);\n",
              "        }\n",
              "      </script>\n",
              "    </div>\n",
              "  </div>\n",
              "  "
            ]
          },
          "metadata": {}
        }
      ]
    }
  ]
}