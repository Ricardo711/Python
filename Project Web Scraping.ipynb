{
 "cells": [
  {
   "cell_type": "markdown",
   "id": "1620ee09",
   "metadata": {},
   "source": [
    "# Project Web Scraping"
   ]
  },
  {
   "cell_type": "markdown",
   "id": "fca50b70",
   "metadata": {},
   "source": [
    "## Web scraping"
   ]
  },
  {
   "cell_type": "code",
   "execution_count": 3,
   "id": "4440a219",
   "metadata": {},
   "outputs": [],
   "source": [
    "#importing relevant libraries \n",
    "import pandas as pd\n",
    "import requests\n",
    "from bs4 import BeautifulSoup"
   ]
  },
  {
   "cell_type": "code",
   "execution_count": 4,
   "id": "848c535e",
   "metadata": {},
   "outputs": [],
   "source": [
    "#sending an http request to the web page\n",
    "url=\"https://www.prepscholar.com/toefl/blog/toefl-vocabulary-list/\"\n",
    "data=requests.get(url).text"
   ]
  },
  {
   "cell_type": "code",
   "execution_count": 5,
   "id": "7540856b",
   "metadata": {},
   "outputs": [],
   "source": [
    "#parse the html content\n",
    "soup=BeautifulSoup(data,\"html5lib\")"
   ]
  },
  {
   "cell_type": "code",
   "execution_count": 6,
   "id": "f77fa93b",
   "metadata": {},
   "outputs": [],
   "source": [
    "#creating an empty new data frame where our toefl words are gonna be \n",
    "toefl_vocabulary=pd.DataFrame(columns=[\"Word\",\"Definition\",\"Sample Sentence\"])"
   ]
  },
  {
   "cell_type": "code",
   "execution_count": 11,
   "id": "4ec60aaa",
   "metadata": {},
   "outputs": [],
   "source": [
    "#splitting the word in 3 columns. Using the html syntax (<tr>,<td> and <tbody>) to performance it.\n",
    "for row in soup.find(\"tbody\").find_all(\"tr\"):\n",
    "    col=row.find_all(\"td\")\n",
    "    word=col[0].text\n",
    "    definition=col[1].text\n",
    "    sample=col[2].text\n",
    "    #adding each new row to the data frame\n",
    "    toefl_vocabulary=toefl_vocabulary.append({\"Word\":word,\"Definition\":definition,\"Sample Sentence\":sample},ignore_index=True)\n"
   ]
  },
  {
   "cell_type": "code",
   "execution_count": 14,
   "id": "06e0d06e",
   "metadata": {},
   "outputs": [
    {
     "data": {
      "text/html": [
       "<div>\n",
       "<style scoped>\n",
       "    .dataframe tbody tr th:only-of-type {\n",
       "        vertical-align: middle;\n",
       "    }\n",
       "\n",
       "    .dataframe tbody tr th {\n",
       "        vertical-align: top;\n",
       "    }\n",
       "\n",
       "    .dataframe thead th {\n",
       "        text-align: right;\n",
       "    }\n",
       "</style>\n",
       "<table border=\"1\" class=\"dataframe\">\n",
       "  <thead>\n",
       "    <tr style=\"text-align: right;\">\n",
       "      <th></th>\n",
       "      <th>Word</th>\n",
       "      <th>Definition</th>\n",
       "      <th>Sample Sentence</th>\n",
       "    </tr>\n",
       "  </thead>\n",
       "  <tbody>\n",
       "    <tr>\n",
       "      <th>0</th>\n",
       "      <td>Wilt</td>\n",
       "      <td>To droop and become limp.</td>\n",
       "      <td>Plants will wilt if you donât water them reg...</td>\n",
       "    </tr>\n",
       "    <tr>\n",
       "      <th>1</th>\n",
       "      <td>Word</td>\n",
       "      <td>Definition</td>\n",
       "      <td>Sample Sentence</td>\n",
       "    </tr>\n",
       "    <tr>\n",
       "      <th>2</th>\n",
       "      <td>Abundant</td>\n",
       "      <td>Present in large quantities.</td>\n",
       "      <td>Living close to a lake means we have an abunda...</td>\n",
       "    </tr>\n",
       "    <tr>\n",
       "      <th>3</th>\n",
       "      <td>Accumulate</td>\n",
       "      <td>To gradually collect.</td>\n",
       "      <td>Each fall, leaves accumulate in our driveway.</td>\n",
       "    </tr>\n",
       "    <tr>\n",
       "      <th>4</th>\n",
       "      <td>Accurate</td>\n",
       "      <td>Correct; free from errors.</td>\n",
       "      <td>Make sure your address is accurate before subm...</td>\n",
       "    </tr>\n",
       "  </tbody>\n",
       "</table>\n",
       "</div>"
      ],
      "text/plain": [
       "         Word                    Definition  \\\n",
       "0        Wilt     To droop and become limp.   \n",
       "1        Word                    Definition   \n",
       "2    Abundant  Present in large quantities.   \n",
       "3  Accumulate         To gradually collect.   \n",
       "4    Accurate    Correct; free from errors.   \n",
       "\n",
       "                                     Sample Sentence  \n",
       "0  Plants will wilt if you donât water them reg...  \n",
       "1                                    Sample Sentence  \n",
       "2  Living close to a lake means we have an abunda...  \n",
       "3      Each fall, leaves accumulate in our driveway.  \n",
       "4  Make sure your address is accurate before subm...  "
      ]
     },
     "execution_count": 14,
     "metadata": {},
     "output_type": "execute_result"
    }
   ],
   "source": [
    "#an issue came up, the symbol ' is misinterpret, we need to solve it \n",
    "toefl_vocabulary.head()"
   ]
  },
  {
   "cell_type": "markdown",
   "id": "6a23f24d",
   "metadata": {},
   "source": [
    "## Data cleaning"
   ]
  },
  {
   "cell_type": "code",
   "execution_count": 15,
   "id": "cbeabdd4",
   "metadata": {},
   "outputs": [],
   "source": [
    "toefl_vocabulary=toefl_vocabulary.iloc[2:]"
   ]
  },
  {
   "cell_type": "code",
   "execution_count": 17,
   "id": "9ae1bdec",
   "metadata": {},
   "outputs": [],
   "source": [
    "toefl_vocabulary=toefl_vocabulary.reset_index()"
   ]
  },
  {
   "cell_type": "code",
   "execution_count": 19,
   "id": "392cb4a7",
   "metadata": {},
   "outputs": [],
   "source": [
    "toefl_vocabulary.drop(\"index\",axis=1,inplace=True)"
   ]
  },
  {
   "cell_type": "code",
   "execution_count": 20,
   "id": "5eb66829",
   "metadata": {},
   "outputs": [
    {
     "data": {
      "text/html": [
       "<div>\n",
       "<style scoped>\n",
       "    .dataframe tbody tr th:only-of-type {\n",
       "        vertical-align: middle;\n",
       "    }\n",
       "\n",
       "    .dataframe tbody tr th {\n",
       "        vertical-align: top;\n",
       "    }\n",
       "\n",
       "    .dataframe thead th {\n",
       "        text-align: right;\n",
       "    }\n",
       "</style>\n",
       "<table border=\"1\" class=\"dataframe\">\n",
       "  <thead>\n",
       "    <tr style=\"text-align: right;\">\n",
       "      <th></th>\n",
       "      <th>Word</th>\n",
       "      <th>Definition</th>\n",
       "      <th>Sample Sentence</th>\n",
       "    </tr>\n",
       "  </thead>\n",
       "  <tbody>\n",
       "    <tr>\n",
       "      <th>0</th>\n",
       "      <td>Abundant</td>\n",
       "      <td>Present in large quantities.</td>\n",
       "      <td>Living close to a lake means we have an abunda...</td>\n",
       "    </tr>\n",
       "    <tr>\n",
       "      <th>1</th>\n",
       "      <td>Accumulate</td>\n",
       "      <td>To gradually collect.</td>\n",
       "      <td>Each fall, leaves accumulate in our driveway.</td>\n",
       "    </tr>\n",
       "    <tr>\n",
       "      <th>2</th>\n",
       "      <td>Accurate</td>\n",
       "      <td>Correct; free from errors.</td>\n",
       "      <td>Make sure your address is accurate before subm...</td>\n",
       "    </tr>\n",
       "    <tr>\n",
       "      <th>3</th>\n",
       "      <td>Accustomed</td>\n",
       "      <td>Used to something.</td>\n",
       "      <td>Having 8AM classes means Iâm accustomed to g...</td>\n",
       "    </tr>\n",
       "    <tr>\n",
       "      <th>4</th>\n",
       "      <td>Acquire</td>\n",
       "      <td>To come into possession of.</td>\n",
       "      <td>When my grandmother died, I acquired her cookb...</td>\n",
       "    </tr>\n",
       "    <tr>\n",
       "      <th>...</th>\n",
       "      <td>...</td>\n",
       "      <td>...</td>\n",
       "      <td>...</td>\n",
       "    </tr>\n",
       "    <tr>\n",
       "      <th>322</th>\n",
       "      <td>Voluminous</td>\n",
       "      <td>Taking up a lot of space.</td>\n",
       "      <td>The puffy wedding dress had voluminous sleeves.</td>\n",
       "    </tr>\n",
       "    <tr>\n",
       "      <th>323</th>\n",
       "      <td>Whereas</td>\n",
       "      <td>On the contrary.</td>\n",
       "      <td>I always save my money whereas my brother is c...</td>\n",
       "    </tr>\n",
       "    <tr>\n",
       "      <th>324</th>\n",
       "      <td>Wholly</td>\n",
       "      <td>Completely.</td>\n",
       "      <td>The monk is wholly devoted to his faith.</td>\n",
       "    </tr>\n",
       "    <tr>\n",
       "      <th>325</th>\n",
       "      <td>Widespread</td>\n",
       "      <td>Occurring over a large region.</td>\n",
       "      <td>There is widespread poverty across that country.</td>\n",
       "    </tr>\n",
       "    <tr>\n",
       "      <th>326</th>\n",
       "      <td>Wilt</td>\n",
       "      <td>To droop and become limp.</td>\n",
       "      <td>Plants will wilt if you donât water them reg...</td>\n",
       "    </tr>\n",
       "  </tbody>\n",
       "</table>\n",
       "<p>327 rows × 3 columns</p>\n",
       "</div>"
      ],
      "text/plain": [
       "           Word                      Definition  \\\n",
       "0      Abundant    Present in large quantities.   \n",
       "1    Accumulate           To gradually collect.   \n",
       "2      Accurate      Correct; free from errors.   \n",
       "3    Accustomed              Used to something.   \n",
       "4       Acquire     To come into possession of.   \n",
       "..          ...                             ...   \n",
       "322  Voluminous       Taking up a lot of space.   \n",
       "323     Whereas                On the contrary.   \n",
       "324      Wholly                     Completely.   \n",
       "325  Widespread  Occurring over a large region.   \n",
       "326        Wilt       To droop and become limp.   \n",
       "\n",
       "                                       Sample Sentence  \n",
       "0    Living close to a lake means we have an abunda...  \n",
       "1        Each fall, leaves accumulate in our driveway.  \n",
       "2    Make sure your address is accurate before subm...  \n",
       "3    Having 8AM classes means Iâm accustomed to g...  \n",
       "4    When my grandmother died, I acquired her cookb...  \n",
       "..                                                 ...  \n",
       "322    The puffy wedding dress had voluminous sleeves.  \n",
       "323  I always save my money whereas my brother is c...  \n",
       "324           The monk is wholly devoted to his faith.  \n",
       "325   There is widespread poverty across that country.  \n",
       "326  Plants will wilt if you donât water them reg...  \n",
       "\n",
       "[327 rows x 3 columns]"
      ]
     },
     "execution_count": 20,
     "metadata": {},
     "output_type": "execute_result"
    }
   ],
   "source": [
    "toefl_vocabulary"
   ]
  },
  {
   "cell_type": "code",
   "execution_count": 24,
   "id": "12be649f",
   "metadata": {},
   "outputs": [
    {
     "data": {
      "text/plain": [
       "('Having 8AM classes means Iâ\\x80\\x99m accustomed to getting up early.',\n",
       " 'Plants will wilt if you donâ\\x80\\x99t water them regularly.')"
      ]
     },
     "execution_count": 24,
     "metadata": {},
     "output_type": "execute_result"
    }
   ],
   "source": [
    "# the symbol ' is unterpreter as â\\x80\\x99, lets fix it\n",
    "toefl_vocabulary[\"Sample Sentence\"][3],toefl_vocabulary[\"Sample Sentence\"][326]"
   ]
  },
  {
   "cell_type": "code",
   "execution_count": 25,
   "id": "4e04d861",
   "metadata": {},
   "outputs": [
    {
     "data": {
      "text/plain": [
       "\"Having 8AM classes means I'm accustomed to getting up early.\""
      ]
     },
     "execution_count": 25,
     "metadata": {},
     "output_type": "execute_result"
    }
   ],
   "source": [
    "toefl_vocabulary[\"Sample Sentence\"][3].replace(\"â\\x80\\x99\",\"'\")"
   ]
  },
  {
   "cell_type": "code",
   "execution_count": 27,
   "id": "079a3691",
   "metadata": {},
   "outputs": [
    {
     "data": {
      "text/plain": [
       "0      Living close to a lake means we have an abunda...\n",
       "1          Each fall, leaves accumulate in our driveway.\n",
       "2      Make sure your address is accurate before subm...\n",
       "3      Having 8AM classes means I'm accustomed to get...\n",
       "4      When my grandmother died, I acquired her cookb...\n",
       "                             ...                        \n",
       "322      The puffy wedding dress had voluminous sleeves.\n",
       "323    I always save my money whereas my brother is c...\n",
       "324             The monk is wholly devoted to his faith.\n",
       "325     There is widespread poverty across that country.\n",
       "326    Plants will wilt if you don't water them regul...\n",
       "Name: Sample Sentence, Length: 327, dtype: object"
      ]
     },
     "execution_count": 27,
     "metadata": {},
     "output_type": "execute_result"
    }
   ],
   "source": [
    "#apply a lambda function to fix this issue \n",
    "toefl_vocabulary[\"Sample Sentence\"].apply(lambda x: x.replace(\"â\\x80\\x99\",\"'\"))"
   ]
  },
  {
   "cell_type": "code",
   "execution_count": 28,
   "id": "867380ff",
   "metadata": {},
   "outputs": [],
   "source": [
    "\n",
    "toefl_vocabulary[\"Sample Sentence\"]=toefl_vocabulary[\"Sample Sentence\"].apply(lambda x: x.replace(\"â\\x80\\x99\",\"'\"))\n",
    "    "
   ]
  },
  {
   "cell_type": "code",
   "execution_count": 29,
   "id": "a0d46568",
   "metadata": {},
   "outputs": [
    {
     "data": {
      "text/html": [
       "<div>\n",
       "<style scoped>\n",
       "    .dataframe tbody tr th:only-of-type {\n",
       "        vertical-align: middle;\n",
       "    }\n",
       "\n",
       "    .dataframe tbody tr th {\n",
       "        vertical-align: top;\n",
       "    }\n",
       "\n",
       "    .dataframe thead th {\n",
       "        text-align: right;\n",
       "    }\n",
       "</style>\n",
       "<table border=\"1\" class=\"dataframe\">\n",
       "  <thead>\n",
       "    <tr style=\"text-align: right;\">\n",
       "      <th></th>\n",
       "      <th>Word</th>\n",
       "      <th>Definition</th>\n",
       "      <th>Sample Sentence</th>\n",
       "    </tr>\n",
       "  </thead>\n",
       "  <tbody>\n",
       "    <tr>\n",
       "      <th>0</th>\n",
       "      <td>Abundant</td>\n",
       "      <td>Present in large quantities.</td>\n",
       "      <td>Living close to a lake means we have an abunda...</td>\n",
       "    </tr>\n",
       "    <tr>\n",
       "      <th>1</th>\n",
       "      <td>Accumulate</td>\n",
       "      <td>To gradually collect.</td>\n",
       "      <td>Each fall, leaves accumulate in our driveway.</td>\n",
       "    </tr>\n",
       "    <tr>\n",
       "      <th>2</th>\n",
       "      <td>Accurate</td>\n",
       "      <td>Correct; free from errors.</td>\n",
       "      <td>Make sure your address is accurate before subm...</td>\n",
       "    </tr>\n",
       "    <tr>\n",
       "      <th>3</th>\n",
       "      <td>Accustomed</td>\n",
       "      <td>Used to something.</td>\n",
       "      <td>Having 8AM classes means I'm accustomed to get...</td>\n",
       "    </tr>\n",
       "    <tr>\n",
       "      <th>4</th>\n",
       "      <td>Acquire</td>\n",
       "      <td>To come into possession of.</td>\n",
       "      <td>When my grandmother died, I acquired her cookb...</td>\n",
       "    </tr>\n",
       "  </tbody>\n",
       "</table>\n",
       "</div>"
      ],
      "text/plain": [
       "         Word                    Definition  \\\n",
       "0    Abundant  Present in large quantities.   \n",
       "1  Accumulate         To gradually collect.   \n",
       "2    Accurate    Correct; free from errors.   \n",
       "3  Accustomed            Used to something.   \n",
       "4     Acquire   To come into possession of.   \n",
       "\n",
       "                                     Sample Sentence  \n",
       "0  Living close to a lake means we have an abunda...  \n",
       "1      Each fall, leaves accumulate in our driveway.  \n",
       "2  Make sure your address is accurate before subm...  \n",
       "3  Having 8AM classes means I'm accustomed to get...  \n",
       "4  When my grandmother died, I acquired her cookb...  "
      ]
     },
     "execution_count": 29,
     "metadata": {},
     "output_type": "execute_result"
    }
   ],
   "source": [
    "toefl_vocabulary.head()"
   ]
  },
  {
   "cell_type": "code",
   "execution_count": 30,
   "id": "96c389d2",
   "metadata": {},
   "outputs": [],
   "source": [
    "#just in case\n",
    "toefl_vocabulary[\"Definition\"]=toefl_vocabulary[\"Definition\"].apply(lambda x: x.replace(\"â\\x80\\x99\",\"'\"))"
   ]
  },
  {
   "cell_type": "code",
   "execution_count": 31,
   "id": "ea1fc61e",
   "metadata": {},
   "outputs": [],
   "source": [
    "#finally converting our data frame as a excel\n",
    "toefl_vocabulary.to_excel(\"toefl_vocabulary.xlsx\")"
   ]
  },
  {
   "cell_type": "code",
   "execution_count": null,
   "id": "686ed350",
   "metadata": {},
   "outputs": [],
   "source": []
  }
 ],
 "metadata": {
  "kernelspec": {
   "display_name": "Python 3 (ipykernel)",
   "language": "python",
   "name": "python3"
  },
  "language_info": {
   "codemirror_mode": {
    "name": "ipython",
    "version": 3
   },
   "file_extension": ".py",
   "mimetype": "text/x-python",
   "name": "python",
   "nbconvert_exporter": "python",
   "pygments_lexer": "ipython3",
   "version": "3.9.7"
  }
 },
 "nbformat": 4,
 "nbformat_minor": 5
}
